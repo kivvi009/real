{
    "cells": [
        {
            "cell_type": "code",
            "execution_count": 1,
            "metadata": {},
            "outputs": [
                {
                    "name": "stderr",
                    "output_type": "stream",
                    "text": "Waiting for a Spark session to start...\nSpark Initialization Done! ApplicationId = app-20211030130953-0000\nKERNEL_ID = 21d09a44-2dfa-4fda-99d1-2568addd6b23\n"
                },
                {
                    "data": {
                        "text/html": "<table>\n<thead><tr><th scope=col>_c0</th><th scope=col>interest_rate</th><th scope=col>credit</th><th scope=col>march</th><th scope=col>may</th><th scope=col>previous</th><th scope=col>duration</th><th scope=col>y</th></tr></thead>\n<tbody>\n\t<tr><td>0                 </td><td>1.334             </td><td>0.0               </td><td>1.0               </td><td>0.0               </td><td>0.0               </td><td>117.0             </td><td>no                </td></tr>\n\t<tr><td>1                 </td><td>0.767             </td><td>0.0               </td><td>0.0               </td><td>2.0               </td><td>1.0               </td><td>274.0             </td><td>yes               </td></tr>\n\t<tr><td>2                 </td><td>4.8580000000000005</td><td>0.0               </td><td>1.0               </td><td>0.0               </td><td>0.0               </td><td>167.0             </td><td>no                </td></tr>\n\t<tr><td>3                 </td><td>4.12              </td><td>0.0               </td><td>0.0               </td><td>0.0               </td><td>0.0               </td><td>686.0             </td><td>yes               </td></tr>\n\t<tr><td>4                 </td><td>4.856             </td><td>0.0               </td><td>1.0               </td><td>0.0               </td><td>0.0               </td><td>157.0             </td><td>no                </td></tr>\n\t<tr><td>5                 </td><td>0.899             </td><td>0.0               </td><td>0.0               </td><td>1.0               </td><td>0.0               </td><td>126.0             </td><td>no                </td></tr>\n</tbody>\n</table>\n",
                        "text/latex": "\\begin{tabular}{r|llllllll}\n \\_c0 & interest\\_rate & credit & march & may & previous & duration & y\\\\\n\\hline\n\t 0                  & 1.334              & 0.0                & 1.0                & 0.0                & 0.0                & 117.0              & no                \\\\\n\t 1                  & 0.767              & 0.0                & 0.0                & 2.0                & 1.0                & 274.0              & yes               \\\\\n\t 2                  & 4.8580000000000005 & 0.0                & 1.0                & 0.0                & 0.0                & 167.0              & no                \\\\\n\t 3                  & 4.12               & 0.0                & 0.0                & 0.0                & 0.0                & 686.0              & yes               \\\\\n\t 4                  & 4.856              & 0.0                & 1.0                & 0.0                & 0.0                & 157.0              & no                \\\\\n\t 5                  & 0.899              & 0.0                & 0.0                & 1.0                & 0.0                & 126.0              & no                \\\\\n\\end{tabular}\n",
                        "text/markdown": "\n_c0 | interest_rate | credit | march | may | previous | duration | y | \n|---|---|---|---|---|---|\n| 0                  | 1.334              | 0.0                | 1.0                | 0.0                | 0.0                | 117.0              | no                 | \n| 1                  | 0.767              | 0.0                | 0.0                | 2.0                | 1.0                | 274.0              | yes                | \n| 2                  | 4.8580000000000005 | 0.0                | 1.0                | 0.0                | 0.0                | 167.0              | no                 | \n| 3                  | 4.12               | 0.0                | 0.0                | 0.0                | 0.0                | 686.0              | yes                | \n| 4                  | 4.856              | 0.0                | 1.0                | 0.0                | 0.0                | 157.0              | no                 | \n| 5                  | 0.899              | 0.0                | 0.0                | 1.0                | 0.0                | 126.0              | no                 | \n\n\n",
                        "text/plain": "  _c0 interest_rate      credit march may previous duration y  \n1 0   1.334              0.0    1.0   0.0 0.0      117.0    no \n2 1   0.767              0.0    0.0   2.0 1.0      274.0    yes\n3 2   4.8580000000000005 0.0    1.0   0.0 0.0      167.0    no \n4 3   4.12               0.0    0.0   0.0 0.0      686.0    yes\n5 4   4.856              0.0    1.0   0.0 0.0      157.0    no \n6 5   0.899              0.0    0.0   1.0 0.0      126.0    no "
                    },
                    "metadata": {},
                    "output_type": "display_data"
                }
            ],
            "source": "# The code was removed by Watson Studio for sharing."
        },
        {
            "cell_type": "code",
            "execution_count": null,
            "metadata": {},
            "outputs": [],
            "source": ""
        }
    ],
    "metadata": {
        "kernelspec": {
            "display_name": "R 3.6 with Spark",
            "language": "R",
            "name": "r"
        },
        "language_info": {
            "codemirror_mode": "r",
            "file_extension": ".r",
            "mimetype": "text/x-r-source",
            "name": "R",
            "pygments_lexer": "r",
            "version": "3.6.3"
        }
    },
    "nbformat": 4,
    "nbformat_minor": 1
}